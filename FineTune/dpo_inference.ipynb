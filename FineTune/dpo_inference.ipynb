{
 "cells": [
  {
   "cell_type": "code",
   "execution_count": 1,
   "metadata": {},
   "outputs": [
    {
     "data": {
      "application/vnd.jupyter.widget-view+json": {
       "model_id": "1c5ba3bf60044d6fbba3c0ee0444f3fc",
       "version_major": 2,
       "version_minor": 0
      },
      "text/plain": [
       "Loading checkpoint shards:   0%|          | 0/3 [00:00<?, ?it/s]"
      ]
     },
     "metadata": {},
     "output_type": "display_data"
    }
   ],
   "source": [
    "import transformers\n",
    "from transformers import AutoModelForCausalLM, AutoTokenizer, TrainingArguments, BitsAndBytesConfig\n",
    "from datasets import load_dataset\n",
    "from peft import LoraConfig, PeftModel, get_peft_model, prepare_model_for_kbit_training\n",
    "from trl import DPOTrainer\n",
    "import bitsandbytes as bnb\n",
    "import torch \n",
    "device = \"cuda\" if torch.cuda.is_available() else \"cpu\"\n",
    "finetuned_model = \"berkouille/assistant_DPO_4\"\n",
    "\n",
    "\n",
    "model = AutoModelForCausalLM.from_pretrained(\n",
    "    finetuned_model,\n",
    "    torch_dtype=torch.bfloat16,\n",
    "    device_map='auto'\n",
    ")\n",
    "\n",
    "tokenizer = AutoTokenizer.from_pretrained(finetuned_model)"
   ]
  },
  {
   "cell_type": "code",
   "execution_count": null,
   "metadata": {},
   "outputs": [],
   "source": [
    "def format_instruction(sample):\n",
    "    return f\"\"\"You are a helpful putting assistant that helps golfers to improve their putting skills. You have two tasks. The first task is responding to users' questions with detailed answers to help them learn putting fundamentals and techniques. Your second task is opening the requested exercises for users on the green platform.\n",
    "        ### Instruction:{sample} ### Response:\"\"\""
   ]
  },
  {
   "cell_type": "code",
   "execution_count": 3,
   "metadata": {},
   "outputs": [],
   "source": [
    "\n",
    "question = [\n",
    "    \"who are you?\",\n",
    "    \"what are the putting fundamentals?\",\n",
    "    \"Could you recommend me a good drill to practice it?\",\n",
    "    \"what is ladder drills for?\",\n",
    "    \"how can i improve my putting skills?\",\n",
    "    \"what is the most important thing to do when putting?\",\n",
    "    \"what kind of visual cues puttview provides for green reading?\",\n",
    "    \"I am pretty bad at speed control, can you help me?\",\n",
    "    \"What is the most popular golf course in the world?\",\n",
    "    \"What are the best games in PuttView to practice distance accuracy?\",\n",
    "    \"Is there any solution from PuttView for outdoors?\",\n",
    "    \"I have a very small apartment, which puttview product should i get?\",\n",
    "    \"What is the most expensive product of puttview?\",\n",
    "    \"Who won the masters 2024?\"\n",
    "]\n",
    "\n",
    "for query in question:\n",
    "    prompt = format_instruction(query)\n",
    "    input_ids = tokenizer(prompt, return_tensors=\"pt\", truncation=True).to(device)\n",
    "    \n",
    "    with torch.inference_mode():\n",
    "        outputs = model.generate(\n",
    "            **input_ids, \n",
    "            max_new_tokens=200, \n",
    "            do_sample=True, \n",
    "            top_p=0.9,\n",
    "            temperature=0.7\n",
    "        )\n",
    "\n",
    "    outputs = tokenizer.batch_decode(outputs, skip_special_tokens=True)\n",
    "    #print(\"full output :\", outputs)\n",
    "    output = outputs[0][len(prompt):]\n",
    "    print(\"------------------\")\n",
    "    print(output)"
   ]
  }
 ],
 "metadata": {
  "kernelspec": {
   "display_name": "torch3",
   "language": "python",
   "name": "python3"
  },
  "language_info": {
   "codemirror_mode": {
    "name": "ipython",
    "version": 3
   },
   "file_extension": ".py",
   "mimetype": "text/x-python",
   "name": "python",
   "nbconvert_exporter": "python",
   "pygments_lexer": "ipython3",
   "version": "3.9.18"
  }
 },
 "nbformat": 4,
 "nbformat_minor": 2
}
