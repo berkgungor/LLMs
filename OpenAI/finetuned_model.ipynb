{
 "cells": [
  {
   "cell_type": "code",
   "execution_count": 37,
   "metadata": {},
   "outputs": [],
   "source": [
    "import os\n",
    "from openai import OpenAI\n",
    "\n",
    "job_id = 'ftjob-hjLV1XIM6ccPjzx6zTpAYw5z'\n",
    "\n",
    "client = OpenAI(api_key=os.environ.get(\"OPENAI_API_KEY\"),)\n",
    "\n",
    "# load Assistant model\n",
    "finetuned_job = client.fine_tuning.jobs.retrieve(job_id)\n",
    "finetuned_model = finetuned_job.fine_tuned_model"
   ]
  },
  {
   "cell_type": "code",
   "execution_count": 32,
   "metadata": {},
   "outputs": [],
   "source": [
    "assistant_input = \"You are a personal assistant . Help users to learn  fundamentals and techniques. Recommend ideal  exercises to help users to improve their  skills.\"\n"
   ]
  },
  {
   "cell_type": "code",
   "execution_count": 54,
   "metadata": {},
   "outputs": [
    {
     "name": "stdout",
     "output_type": "stream",
     "text": [
      "Response time:  1.6918652057647705\n"
     ]
    },
    {
     "data": {
      "text/plain": [
       "ChatCompletionMessage(content='Improving speed control is crucial for . You can practice this by setting up a series of short, medium, and long putts. Focus on getting the ball to stop within a specific distance of the hole, gradually increasing the challenge as you improve. ', role='assistant', function_call=None, tool_calls=None)"
      ]
     },
     "execution_count": 54,
     "metadata": {},
     "output_type": "execute_result"
    }
   ],
   "source": [
    "import time\n",
    "start_time = time.time()\n",
    "\n",
    "completion = client.chat.completions.create(\n",
    "  model=finetuned_model,\n",
    "  temperature=0.4,\n",
    "  messages=[\n",
    "    {\"role\": \"system\", \"content\": \"You are a personal assistant . Help users to learn  fundamentals and techniques with detailed answers. Recommend ideal  exercises to help users to improve their  skills.\"},\n",
    "    {\"role\": \"user\", \"content\": \"I am pretty bad at speed control, can you help me?\"}\n",
    "  ]\n",
    ")\n",
    "response_time = time.time() - start_time\n",
    "print(\"Response time: \", response_time)\n",
    "completion.choices[0].message"
   ]
  }
 ],
 "metadata": {
  "kernelspec": {
   "display_name": "openai",
   "language": "python",
   "name": "python3"
  },
  "language_info": {
   "codemirror_mode": {
    "name": "ipython",
    "version": 3
   },
   "file_extension": ".py",
   "mimetype": "text/x-python",
   "name": "python",
   "nbconvert_exporter": "python",
   "pygments_lexer": "ipython3",
   "version": "3.12.2"
  }
 },
 "nbformat": 4,
 "nbformat_minor": 2
}
