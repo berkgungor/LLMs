{
 "cells": [
  {
   "cell_type": "code",
   "execution_count": 56,
   "metadata": {},
   "outputs": [],
   "source": [
    "import os\n",
    "from openai import OpenAI\n",
    "from langchain.memory import ConversationBufferMemory,ConversationBufferWindowMemory\n",
    "from langchain_community.document_loaders import PyPDFLoader\n",
    "from langchain.text_splitter import RecursiveCharacterTextSplitter\n",
    "from langchain_openai import ChatOpenAI, OpenAIEmbeddings\n",
    "from langchain.vectorstores import FAISS\n",
    "from langchain.prompts import (\n",
    "    ChatPromptTemplate,\n",
    "    HumanMessagePromptTemplate,\n",
    "    MessagesPlaceholder,\n",
    ")\n",
    "from langchain_core.messages import SystemMessage, HumanMessage, AIMessage\n",
    "from langchain.chains.combine_documents import create_stuff_documents_chain\n",
    "from langchain.chains import create_retrieval_chain\n",
    "from langchain.chains.history_aware_retriever import create_history_aware_retriever\n",
    "\n",
    "os.environ[\"OPENAI_API_KEY\"] = \"\"\n",
    "job_id = 'ftjob-hjLV1XIM6ccPjzx6zTpAYw5z'\n",
    "\n",
    "client = OpenAI(api_key=os.environ.get(\"OPENAI_API_KEY\"))\n",
    "finetuned_job = client.fine_tuning.jobs.retrieve(job_id)\n",
    "finetuned_model = finetuned_job.fine_tuned_model\n",
    "\n",
    "llm_model = ChatOpenAI(model_name=finetuned_model, temperature=0.4)"
   ]
  },
  {
   "cell_type": "markdown",
   "metadata": {},
   "source": [
    "Basic LLM Chain with system prompt"
   ]
  },
  {
   "cell_type": "code",
   "execution_count": 5,
   "metadata": {},
   "outputs": [],
   "source": [
    "prompt = ChatPromptTemplate.from_template(\"\"\"\n",
    "                                          Your name is  Assistant. You are a personal assistant .\n",
    "                                          Answer the user's question:\n",
    "                                          Question: {question}\"\"\")\n",
    "\n",
    "chain = prompt | llm_model\n",
    "response = chain.invoke({\"question\": \"What is  x?\"})"
   ]
  },
  {
   "cell_type": "markdown",
   "metadata": {},
   "source": [
    "Include Context in prompt using documents"
   ]
  },
  {
   "cell_type": "code",
   "execution_count": 29,
   "metadata": {},
   "outputs": [],
   "source": [
    "\n",
    "def get_document():\n",
    "    loader = PyPDFLoader(\"../_RAG_3.pdf\")\n",
    "    documents = loader.load()\n",
    "    text_splitter = RecursiveCharacterTextSplitter(chunk_size=500, chunk_overlap=50)\n",
    "    docs = text_splitter.split_documents(documents)\n",
    "    return docs\n",
    "\n",
    "def create_db(docs):\n",
    "    embeddings = OpenAIEmbeddings()\n",
    "    db = FAISS.from_documents(docs, embedding = embeddings)\n",
    "    return db"
   ]
  },
  {
   "cell_type": "code",
   "execution_count": 39,
   "metadata": {},
   "outputs": [],
   "source": [
    "def create_chain(vectore_store):\n",
    "    llm = ChatOpenAI(model_name=finetuned_model, temperature=0.4)\n",
    "    \n",
    "    prompt_context = ChatPromptTemplate.from_template(\"\"\"\n",
    "                                          Your name is  Assistant. You are a personal assistant .\n",
    "                                          Answer the user's question:\n",
    "                                          Context: {context}\n",
    "                                          Question: {input}\"\"\")\n",
    "    \n",
    "    chain_context = create_stuff_documents_chain(llm = llm, prompt = prompt_context,)\n",
    "    \n",
    "    retriever = vectore_store.as_retriever(search_kwargs={\"k\": 2})\n",
    "    retriever_chain = create_retrieval_chain(retriever, chain_context)\n",
    "    \n",
    "    return retriever_chain"
   ]
  },
  {
   "cell_type": "code",
   "execution_count": 35,
   "metadata": {},
   "outputs": [
    {
     "name": "stdout",
     "output_type": "stream",
     "text": [
      "The most expensive product of  is the Custom Series, which includes the CX1, CX2, C1, and C2 models.\n"
     ]
    }
   ],
   "source": [
    "vector_store = create_db(get_document())\n",
    "main_chain = create_chain(vector_store)\n",
    "\n",
    "response = main_chain.invoke({\n",
    "    \"input\" : \"what is the most expensive product of ?\",\n",
    "})\n",
    "\n",
    "print(response[\"answer\"])"
   ]
  },
  {
   "cell_type": "markdown",
   "metadata": {},
   "source": [
    "Include chat history"
   ]
  },
  {
   "cell_type": "code",
   "execution_count": 59,
   "metadata": {},
   "outputs": [],
   "source": [
    "def history_and_retriever(vector_store):\n",
    "    \n",
    "    prompt = ChatPromptTemplate.from_messages([\n",
    "        (\"system\", \"Your name is  Assistant. You are a personal assistant . Answer the user's question based on the context: {context}\"),\n",
    "        MessagesPlaceholder(variable_name=\"chat_history\"),\n",
    "        (\"human\",\"{input}\")\n",
    "    ])\n",
    "\n",
    "    chain = create_stuff_documents_chain(llm = llm_model, prompt = prompt)\n",
    "    retriever = vector_store.as_retriever(search_kwargs={\"k\": 2})\n",
    "\n",
    "    #combine chat history and latest user input\n",
    "    retriever_prompt = ChatPromptTemplate.from_messages([\n",
    "        MessagesPlaceholder(variable_name=\"chat_history\"),\n",
    "        (\"human\", \"{input}\"),\n",
    "        (\"human\", \"Given the above conversation, generate a search query to look up in order to get information relevant to the conversation\")\n",
    "    ])\n",
    "\n",
    "    # Generate history aware retriever\n",
    "    history_aware_retriever = create_history_aware_retriever(llm=llm_model, retriever = retriever, prompt= retriever_prompt)\n",
    "    \n",
    "    retrieval_chain = create_retrieval_chain(history_aware_retriever,chain)\n",
    "    \n",
    "    return retrieval_chain\n",
    "\n"
   ]
  },
  {
   "cell_type": "code",
   "execution_count": 61,
   "metadata": {},
   "outputs": [],
   "source": [
    "def prepare_conversation(main_chain,question,chat_history):\n",
    "    response = main_chain.invoke({\n",
    "    \"input\" : question,\n",
    "    \"chat_history\" : chat_history\n",
    "})\n",
    "    return response[\"answer\"]"
   ]
  },
  {
   "cell_type": "code",
   "execution_count": 1,
   "metadata": {},
   "outputs": [
    {
     "ename": "NameError",
     "evalue": "name 'create_db' is not defined",
     "output_type": "error",
     "traceback": [
      "\u001b[1;31m---------------------------------------------------------------------------\u001b[0m",
      "\u001b[1;31mNameError\u001b[0m                                 Traceback (most recent call last)",
      "Cell \u001b[1;32mIn[1], line 2\u001b[0m\n\u001b[0;32m      1\u001b[0m \u001b[38;5;28;01mif\u001b[39;00m \u001b[38;5;18m__name__\u001b[39m\u001b[38;5;241m==\u001b[39m \u001b[38;5;124m'\u001b[39m\u001b[38;5;124m__main__\u001b[39m\u001b[38;5;124m'\u001b[39m:\n\u001b[1;32m----> 2\u001b[0m     vector_store \u001b[38;5;241m=\u001b[39m \u001b[43mcreate_db\u001b[49m(get_document())\n\u001b[0;32m      3\u001b[0m     \u001b[38;5;66;03m#main_chain = create_chain(vector_store)\u001b[39;00m\n\u001b[0;32m      4\u001b[0m     history_aware_chain \u001b[38;5;241m=\u001b[39m history_and_retriever(vector_store)\n",
      "\u001b[1;31mNameError\u001b[0m: name 'create_db' is not defined"
     ]
    }
   ],
   "source": [
    "if __name__== '__main__':\n",
    "    vector_store = create_db(get_document())\n",
    "    #main_chain = create_chain(vector_store)\n",
    "    history_aware_chain = history_and_retriever(vector_store)\n",
    "    \n",
    "    chat_history = []\n",
    "    \n",
    "    while True:\n",
    "        user_input = input(\"User: \")\n",
    "        response = prepare_conversation(history_aware_chain, user_input,chat_history)\n",
    "        #append user input to chat history\n",
    "        chat_history.append(HumanMessage(content=user_input))\n",
    "        chat_history.append(AIMessage(content=response))\n",
    "        print(\"Human:\",user_input )\n",
    "        print(\"Assistant:\",response)"
   ]
  }
 ],
 "metadata": {
  "kernelspec": {
   "display_name": "openai",
   "language": "python",
   "name": "python3"
  },
  "language_info": {
   "codemirror_mode": {
    "name": "ipython",
    "version": 3
   },
   "file_extension": ".py",
   "mimetype": "text/x-python",
   "name": "python",
   "nbconvert_exporter": "python",
   "pygments_lexer": "ipython3",
   "version": "3.12.2"
  }
 },
 "nbformat": 4,
 "nbformat_minor": 2
}
